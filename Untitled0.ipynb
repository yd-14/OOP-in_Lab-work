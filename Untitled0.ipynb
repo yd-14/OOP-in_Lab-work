{
  "nbformat": 4,
  "nbformat_minor": 0,
  "metadata": {
    "colab": {
      "name": "Untitled0.ipynb",
      "provenance": [],
      "collapsed_sections": [],
      "authorship_tag": "ABX9TyMClult5HBNMsDkYU9sJMvc",
      "include_colab_link": true
    },
    "kernelspec": {
      "name": "python3",
      "display_name": "Python 3"
    },
    "language_info": {
      "name": "python"
    }
  },
  "cells": [
    {
      "cell_type": "markdown",
      "metadata": {
        "id": "view-in-github",
        "colab_type": "text"
      },
      "source": [
        "<a href=\"https://colab.research.google.com/github/yd-14/OOP-in_Lab-work/blob/main/Untitled0.ipynb\" target=\"_parent\"><img src=\"https://colab.research.google.com/assets/colab-badge.svg\" alt=\"Open In Colab\"/></a>"
      ]
    },
    {
      "cell_type": "code",
      "metadata": {
        "id": "2ox1xNWqnIdT",
        "colab": {
          "base_uri": "https://localhost:8080/"
        },
        "outputId": "c6a3a385-1bad-4daf-9814-7b6050194aa7"
      },
      "source": [
        "x='iiit dharwad'\n",
        "print(x.upper())\n",
        "print(x.lower())\n",
        "print(x.split(' '))\n",
        "print(x.replace(' ',''))"
      ],
      "execution_count": null,
      "outputs": [
        {
          "output_type": "stream",
          "name": "stdout",
          "text": [
            "IIIT DHARWAD\n",
            "iiit dharwad\n",
            "['iiit', 'dharwad']\n",
            "iiitdharwad\n"
          ]
        }
      ]
    },
    {
      "cell_type": "code",
      "metadata": {
        "colab": {
          "base_uri": "https://localhost:8080/"
        },
        "id": "TIp6fCuDp1cX",
        "outputId": "d8de76d0-6486-415b-af2a-8f30c6ff3ab2"
      },
      "source": [
        "def check(x):\n",
        "  if (x<0):\n",
        "    print('x is negative')\n",
        "  elif(x>0):\n",
        "    print('x is positive')\n",
        "  else:\n",
        "    print('x is zero')\n",
        "\n",
        "check(int(input('Enter a number:')))"
      ],
      "execution_count": null,
      "outputs": [
        {
          "output_type": "stream",
          "name": "stdout",
          "text": [
            "Enter a number:4\n",
            "x is positive\n"
          ]
        }
      ]
    },
    {
      "cell_type": "code",
      "metadata": {
        "colab": {
          "base_uri": "https://localhost:8080/"
        },
        "id": "WHyVerxhqzPi",
        "outputId": "fb604e4b-4f4b-4482-fa21-7d31dd3f8639"
      },
      "source": [
        "def age_check(age, citizen):\n",
        "  citizen.strip().upper()\n",
        "  if(age>=35):\n",
        "    print('Eligible')\n",
        "  else:\n",
        "    print('Not eligible')\n",
        "\n",
        "age_check(int(input('Enter age: ')))\n"
      ],
      "execution_count": null,
      "outputs": [
        {
          "output_type": "stream",
          "name": "stdout",
          "text": [
            "Enter age: 10\n",
            "Not eligible\n"
          ]
        }
      ]
    },
    {
      "cell_type": "code",
      "metadata": {
        "colab": {
          "base_uri": "https://localhost:8080/"
        },
        "id": "LNYr4pDMteBW",
        "outputId": "6899d097-56dd-4d2a-aa86-569d431c1769"
      },
      "source": [
        "days=['monday','tuesday','wednesday','thrusday','friday','saturday','sunday']\n",
        "print(days[0],days[1],days[-1],days[-2])\n",
        "days.append('another day')\n",
        "days.insert(2,'yet another day')\n",
        "print(days)\n",
        "days.pop()\n",
        "days.pop(2)\n",
        "print(days)\n",
        "days.remove('thrusday')\n",
        "print(days)\n",
        "\n",
        "new_day=[]\n",
        "for i in days:\n",
        "  if(i[0]=='s'):\n",
        "    new_day.append(i)\n",
        "print(new_day)"
      ],
      "execution_count": null,
      "outputs": [
        {
          "output_type": "stream",
          "name": "stdout",
          "text": [
            "monday tuesday sunday saturday\n",
            "['monday', 'tuesday', 'yet another day', 'wednesday', 'thrusday', 'friday', 'saturday', 'sunday', 'another day']\n",
            "['monday', 'tuesday', 'wednesday', 'thrusday', 'friday', 'saturday', 'sunday']\n",
            "['monday', 'tuesday', 'wednesday', 'friday', 'saturday', 'sunday']\n",
            "['saturday', 'sunday']\n"
          ]
        }
      ]
    },
    {
      "cell_type": "code",
      "metadata": {
        "colab": {
          "base_uri": "https://localhost:8080/"
        },
        "id": "iSAHgDoLwNrv",
        "outputId": "5c2705d5-fe06-43b7-aa4b-e935b67c4051"
      },
      "source": [
        "num=[23,58,34,75,2,6,7,4,65]\n",
        "num.sort()\n",
        "print(num)\n",
        "\n",
        "num.sort(reverse=True)\n",
        "print(num)\n",
        "\n",
        "print(max(num))\n",
        "print(min(num))"
      ],
      "execution_count": null,
      "outputs": [
        {
          "output_type": "stream",
          "name": "stdout",
          "text": [
            "[2, 4, 6, 7, 23, 34, 58, 65, 75]\n",
            "[75, 65, 58, 34, 23, 7, 6, 4, 2]\n",
            "75\n",
            "2\n"
          ]
        }
      ]
    },
    {
      "cell_type": "code",
      "metadata": {
        "colab": {
          "base_uri": "https://localhost:8080/"
        },
        "id": "jQxXyfLNyV82",
        "outputId": "53106ff8-d339-4798-9723-4169a97c1e7d"
      },
      "source": [
        "dict={'brand':'XYZ','model':'abc','manufacture year':2019}\n",
        "print(dict.keys())\n",
        "print(dict.values())\n",
        "print(dict)\n"
      ],
      "execution_count": null,
      "outputs": [
        {
          "output_type": "stream",
          "name": "stdout",
          "text": [
            "dict_keys(['brand', 'model', 'manufacture year'])\n",
            "dict_values(['XYZ', 'abc', 2019])\n",
            "{'brand': 'XYZ', 'model': 'abc', 'manufacture year': 2019}\n"
          ]
        }
      ]
    }
  ]
}